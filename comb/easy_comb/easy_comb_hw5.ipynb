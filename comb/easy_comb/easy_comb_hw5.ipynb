{
 "cells": [
  {
   "cell_type": "markdown",
   "metadata": {},
   "source": [
    "## Easy comb hw 5"
   ]
  },
  {
   "cell_type": "markdown",
   "metadata": {},
   "source": [
    "### Task 1\n",
    "Количество различных слов, получаемых перестановкой букв в слове \"папарацци\" равно"
   ]
  },
  {
   "cell_type": "code",
   "execution_count": 4,
   "metadata": {},
   "outputs": [
    {
     "name": "stdout",
     "output_type": "stream",
     "text": [
      "ans 1: 15120.0\n"
     ]
    }
   ],
   "source": [
    "\"\"\"\n",
    "п - 2\n",
    "а - 3\n",
    "ц - 2\n",
    "р - 1\n",
    "и - 1\n",
    "\"\"\"\n",
    "\n",
    "from math import factorial as f\n",
    "print('ans 1: {}'.format(f(9) / (f(2) * f(3) * f(2))))  # +"
   ]
  },
  {
   "cell_type": "markdown",
   "metadata": {},
   "source": [
    "### Task 2\n",
    "Имеется 18 различных шаров и 4 различных ящика. Сколькими способами можно в первые два ящика положить по 5 шаров, а в оставшиеся два − по 4 шара (Отметьте все подходящие варианты)?"
   ]
  },
  {
   "cell_type": "code",
   "execution_count": null,
   "metadata": {
    "collapsed": true
   },
   "outputs": [],
   "source": [
    "# P(5, 4, 4, 5)\n",
    "# P(5, 5, 4, 4)"
   ]
  },
  {
   "cell_type": "markdown",
   "metadata": {},
   "source": [
    "### Task 3\n",
    "У продавца антиквариата имеется 12 разных монет. Четверо нумизматов (Андрей, Борис, Виктор и Геннадий) купили эти монеты: Андрей и Борис по 4 монеты, а Виктор и Геннадий − по 2 монеты. Сколькими способами они могли осуществить свои покупки?"
   ]
  },
  {
   "cell_type": "code",
   "execution_count": 6,
   "metadata": {},
   "outputs": [
    {
     "name": "stdout",
     "output_type": "stream",
     "text": [
      "ans 3: 207900.0\n"
     ]
    }
   ],
   "source": [
    "print('ans 3: {}'.format(f(12) / (f(4)**2 * f(2)**2)))  # +"
   ]
  },
  {
   "cell_type": "markdown",
   "metadata": {},
   "source": [
    "### Task 4\n",
    "У продавца антиквариата имеется 12 разных монет. Четверо нумизматов купили эти монеты: какие-то двое по 4 монеты, а оставшиеся двое − по 2 монеты. Сколькими способами они могли осуществить свои покупки?\n",
    "\n",
    "Указание. Обратите внимание на разницу в условиях этой и предыдущей задачи!"
   ]
  },
  {
   "cell_type": "code",
   "execution_count": 12,
   "metadata": {},
   "outputs": [
    {
     "name": "stdout",
     "output_type": "stream",
     "text": [
      "ans 4: 1247400\n"
     ]
    }
   ],
   "source": [
    "#ans3 * C(4, 2) =\n",
    "print('ans 4: {}'.format(207900 * 6))  # +"
   ]
  },
  {
   "cell_type": "markdown",
   "metadata": {},
   "source": [
    "### Task 5\n",
    "Полиномиальный коэффициент P(5,4,3,2,1) равен"
   ]
  },
  {
   "cell_type": "code",
   "execution_count": null,
   "metadata": {
    "collapsed": true
   },
   "outputs": [],
   "source": [
    "# 15! / (5! 4! ...)\n",
    "# C_15^5...\n",
    "# C_15^10"
   ]
  },
  {
   "cell_type": "markdown",
   "metadata": {},
   "source": [
    "### Task 6\n",
    "Сумма равна"
   ]
  },
  {
   "cell_type": "code",
   "execution_count": null,
   "metadata": {
    "collapsed": true
   },
   "outputs": [],
   "source": [
    "1  # -"
   ]
  },
  {
   "cell_type": "markdown",
   "metadata": {},
   "source": [
    "### Task 7\n",
    "В чемпионате Европы по футболу участвуют 24 команды. Золотые медали получает команда победитель, серебряные − команда, проигравшая в финале, бронзовые − две команды, которые проиграли в полуфинале. Сколькими способами могут распределиться медали между командами? (Отметьте все правильные варианты)"
   ]
  },
  {
   "cell_type": "code",
   "execution_count": null,
   "metadata": {
    "collapsed": true
   },
   "outputs": [],
   "source": [
    "C_24^4 * P(1, 1, 2) = C_24^4 * 4! / 2! =\n",
    "= 24! / (20! * 4!) * 4! / 2! = 21*22*23*24 / 4! * 3 * 4 = \n",
    "= 21 * 22 * 23 * 24 / 2 \n",
    "\n",
    "24 * 23 * C(22, 2) = 24 * 23 * 22! / 20! / 2! =\n",
    "= 24 * 23 * 22 * 21 / 2\n",
    "\n",
    "# ans: 24 * 23... ; P(1, 1, 2, 20)  # +"
   ]
  },
  {
   "cell_type": "markdown",
   "metadata": {},
   "source": [
    "### Task 8\n",
    "Коэффициент при x^10 в разложении (1 + x^2 + x^3)^6 равен"
   ]
  },
  {
   "cell_type": "code",
   "execution_count": null,
   "metadata": {
    "collapsed": true
   },
   "outputs": [],
   "source": [
    "P(1, 5, 0) + P(2, 2, 2)  # +"
   ]
  }
 ],
 "metadata": {
  "kernelspec": {
   "display_name": "Python 3",
   "language": "python",
   "name": "python3"
  },
  "language_info": {
   "codemirror_mode": {
    "name": "ipython",
    "version": 3
   },
   "file_extension": ".py",
   "mimetype": "text/x-python",
   "name": "python",
   "nbconvert_exporter": "python",
   "pygments_lexer": "ipython3",
   "version": "3.5.2"
  }
 },
 "nbformat": 4,
 "nbformat_minor": 2
}
