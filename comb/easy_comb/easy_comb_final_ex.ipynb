{
 "cells": [
  {
   "cell_type": "markdown",
   "metadata": {},
   "source": [
    "## Easy comb final ex"
   ]
  },
  {
   "cell_type": "markdown",
   "metadata": {},
   "source": [
    "### Task 1\n",
    "Сколько четырехзначных чисел не имеют в своей десятичной записи одинаковых цифр?"
   ]
  },
  {
   "cell_type": "code",
   "execution_count": 5,
   "metadata": {},
   "outputs": [
    {
     "data": {
      "text/plain": [
       "4536"
      ]
     },
     "execution_count": 5,
     "metadata": {},
     "output_type": "execute_result"
    }
   ],
   "source": [
    "from math import factorial as f\n",
    "9 * 9 * 8 * 7"
   ]
  },
  {
   "cell_type": "markdown",
   "metadata": {},
   "source": [
    "### Task 2\n",
    "В ящике лежат 30 черных, 30 белых и 30 красных носков. Какое минимальное количество носков надо вытащить, чтобы среди них гарантированно было 2 носка одного цвета?"
   ]
  },
  {
   "cell_type": "code",
   "execution_count": 7,
   "metadata": {},
   "outputs": [
    {
     "data": {
      "text/plain": [
       "4"
      ]
     },
     "execution_count": 7,
     "metadata": {},
     "output_type": "execute_result"
    }
   ],
   "source": [
    "# По Дирихле\n",
    "3 + 1"
   ]
  },
  {
   "cell_type": "markdown",
   "metadata": {},
   "source": [
    "### Task 3\n",
    "В саду растёт яблоня, груша и лимонное дерево. На каждом дереве по 20 плодов (все плоды разные). Сколькими способами можно выбрать два яблока, одну грушу и один лимон?"
   ]
  },
  {
   "cell_type": "code",
   "execution_count": 8,
   "metadata": {},
   "outputs": [
    {
     "data": {
      "text/plain": [
       "76000.0"
      ]
     },
     "execution_count": 8,
     "metadata": {},
     "output_type": "execute_result"
    }
   ],
   "source": [
    "# C_20^2 * 20 * 20\n",
    "f(20) / f(18) / f(2) * 20 * 20"
   ]
  },
  {
   "cell_type": "markdown",
   "metadata": {},
   "source": [
    "### Task 4\n",
    "В группе музыкантов трое гитаристов и 20 гитар. Сколькими способами музыканты могут выбрать себе по инструменту?"
   ]
  },
  {
   "cell_type": "code",
   "execution_count": 9,
   "metadata": {},
   "outputs": [
    {
     "data": {
      "text/plain": [
       "6840.0"
      ]
     },
     "execution_count": 9,
     "metadata": {},
     "output_type": "execute_result"
    }
   ],
   "source": [
    "# A_20^3\n",
    "f(20) / f(17)"
   ]
  },
  {
   "cell_type": "markdown",
   "metadata": {},
   "source": [
    "### Task 5\n",
    "Коля загадал последовательность из чисел 1,2,3,4,5, причём ни одно из чисел не стоит на своём месте. Вася пытается угадать эту последовательность (последовательность считается угаданной, если Вася написал её на бумаге и показал Коле). Сколько вариантов надо перебрать Васе, чтобы гарантированно угадать последовательность?"
   ]
  },
  {
   "cell_type": "code",
   "execution_count": 10,
   "metadata": {},
   "outputs": [
    {
     "data": {
      "text/plain": [
       "44.0"
      ]
     },
     "execution_count": 10,
     "metadata": {},
     "output_type": "execute_result"
    }
   ],
   "source": [
    "f(5) * (1. / f(2) - 1. / f(3) + 1. / f(4) - 1. / f(5)) "
   ]
  },
  {
   "cell_type": "markdown",
   "metadata": {},
   "source": [
    "### Task 6\n",
    "В институте работают 100 сотрудников, причём:\n",
    "\n",
    "английский знают 60 сотрудников;\n",
    "\n",
    "не знают немецкий 55 сотрудников;\n",
    "\n",
    "французский знают 25 сотрудников;\n",
    "\n",
    "25 сотрудников не знают ни французский, ни английский;\n",
    "\n",
    "английский и немецкий знают 15 сотрудников;\n",
    "\n",
    "французский и немецкий знают 15 сотрудников;\n",
    "\n",
    "все три языка знают 5 сотрудников.\n",
    "\n",
    "Отметьте верные утверждения:"
   ]
  },
  {
   "cell_type": "code",
   "execution_count": 11,
   "metadata": {},
   "outputs": [
    {
     "data": {
      "text/plain": [
       "70"
      ]
     },
     "execution_count": 11,
     "metadata": {},
     "output_type": "execute_result"
    }
   ],
   "source": [
    "# Хотя бы 1 язык знает не менее 93 сотрудников\n",
    "# Не более 10 сотрудников знает нем и фран но не знает англ"
   ]
  },
  {
   "cell_type": "markdown",
   "metadata": {},
   "source": [
    "### Task 7\n",
    "Имеются слова \"коала\" и \"лайка\". Сколько выравниваний есть у этих двух слов?"
   ]
  },
  {
   "cell_type": "code",
   "execution_count": 4,
   "metadata": {},
   "outputs": [
    {
     "data": {
      "text/plain": [
       "252.0"
      ]
     },
     "execution_count": 4,
     "metadata": {},
     "output_type": "execute_result"
    }
   ],
   "source": [
    "# C_10^5\n",
    "f(10) / f(5) / f(5)"
   ]
  },
  {
   "cell_type": "markdown",
   "metadata": {},
   "source": [
    "### Task 8\n",
    "Сумма всех чисел в 9-й строке треугольника Паскаля равна"
   ]
  },
  {
   "cell_type": "code",
   "execution_count": 2,
   "metadata": {},
   "outputs": [
    {
     "data": {
      "text/plain": [
       "512"
      ]
     },
     "execution_count": 2,
     "metadata": {},
     "output_type": "execute_result"
    }
   ],
   "source": [
    "2**9"
   ]
  }
 ],
 "metadata": {
  "kernelspec": {
   "display_name": "Python 3",
   "language": "python",
   "name": "python3"
  },
  "language_info": {
   "codemirror_mode": {
    "name": "ipython",
    "version": 3
   },
   "file_extension": ".py",
   "mimetype": "text/x-python",
   "name": "python",
   "nbconvert_exporter": "python",
   "pygments_lexer": "ipython3",
   "version": "3.5.2"
  }
 },
 "nbformat": 4,
 "nbformat_minor": 2
}
