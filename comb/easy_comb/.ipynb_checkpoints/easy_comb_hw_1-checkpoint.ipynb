{
 "cells": [
  {
   "cell_type": "markdown",
   "metadata": {},
   "source": [
    "## HW 1"
   ]
  },
  {
   "cell_type": "markdown",
   "metadata": {},
   "source": [
    "### Task 1\n",
    "Автомобильные номера штата Калифорнии состоят из одной цифры, не равной 0, трёх больших букв латинского алфавита и ещё трёх цифр (например, 5PPP064). Сколько всего имеется номеров такого типа?\n"
   ]
  },
  {
   "cell_type": "code",
   "execution_count": 7,
   "metadata": {},
   "outputs": [
    {
     "name": "stdout",
     "output_type": "stream",
     "text": [
      "ans 1: 158184000\n"
     ]
    }
   ],
   "source": [
    "print('ans 1: {}'.format(9 * 26 ** 3 * 10 ** 3))"
   ]
  },
  {
   "cell_type": "markdown",
   "metadata": {},
   "source": [
    "### Task 2\n",
    "Путешественнику нужно добраться из города A в город F двигаясь каждый раз вправо или вверх по стрелкам (см. карту). Сколькими способами это можно сделать?"
   ]
  },
  {
   "cell_type": "code",
   "execution_count": 8,
   "metadata": {},
   "outputs": [
    {
     "name": "stdout",
     "output_type": "stream",
     "text": [
      "ans 2: 23\n"
     ]
    }
   ],
   "source": [
    "print('ans 2: {}'.format(8 + 6 + 9))"
   ]
  },
  {
   "cell_type": "markdown",
   "metadata": {},
   "source": [
    "### Task 3\n",
    "В мешке 50 шаров, отличающихся только цветом: 8 красных, 9 синих, 9 желтых, остальные – поровну черные и белые. Какое наименьшее число шаров надо вынуть из мешка, не видя их, чтобы среди них гарантированно было не менее 7 шаров одного цвета?"
   ]
  },
  {
   "cell_type": "code",
   "execution_count": 9,
   "metadata": {},
   "outputs": [
    {
     "name": "stdout",
     "output_type": "stream",
     "text": [
      "ans 3: 31\n"
     ]
    }
   ],
   "source": [
    "print('ans 3: {}'.format(6 + 6 + 6 + 6 + 6 + 1))"
   ]
  },
  {
   "cell_type": "markdown",
   "metadata": {},
   "source": [
    "### Task 4\n",
    "\n",
    "15 футбольных команд (в каждой по 11 человек) летят из Москвы в Санкт-Петербург на соревнования. Какое минимальное количество мест может быть в самолете, чтобы гарантированно нашлась команда, долетевшая в полном составе?"
   ]
  },
  {
   "cell_type": "code",
   "execution_count": 10,
   "metadata": {},
   "outputs": [
    {
     "name": "stdout",
     "output_type": "stream",
     "text": [
      "ans 4: 151\n"
     ]
    }
   ],
   "source": [
    "print('ans 4: {}'.format(15 * 10 + 1))"
   ]
  },
  {
   "cell_type": "markdown",
   "metadata": {},
   "source": [
    "### Task 5\n",
    "\n",
    "Сколько чисел от 1 до 9999 (включая 1 и 9999) не имеют в своей десятичной записи одинаковых подряд идущих цифр? (к примеру, не подходят 1488, 2259, 3233)"
   ]
  },
  {
   "cell_type": "code",
   "execution_count": 11,
   "metadata": {},
   "outputs": [
    {
     "name": "stdout",
     "output_type": "stream",
     "text": [
      "ans 5: 7380\n"
     ]
    }
   ],
   "source": [
    "from math import factorial as f\n",
    "\n",
    "# 1 - 9\n",
    "9\n",
    "# 10-99\n",
    "9 * 9\n",
    "# 100-999\n",
    "9 * 9 * 9\n",
    "# 1000-9999\n",
    "9 * 9 * 9 * 9\n",
    "\n",
    "print('ans 5: {}'.format(9 + 9 ** 2 + 9 ** 3 + 9 ** 4))"
   ]
  },
  {
   "cell_type": "markdown",
   "metadata": {},
   "source": [
    "### Task 6\n",
    "\n",
    "У вас есть 4 ящика и 15 кроликов. Отметьте верные утверждения:"
   ]
  },
  {
   "cell_type": "markdown",
   "metadata": {},
   "source": [
    "- **При любой рассадке кроликов по ящикам найдётся ящик, в котором будет сидеть по крайней мере 4 кролика.**\n",
    "\n",
    "- **При любой рассадке кроликов по ящикам найдётся ящик, в котором будет сидеть по крайней мере 3 кролика.**\n",
    "\n",
    "- При любой рассадке кроликов по ящикам найдётся ящик, в котором будет сидеть по крайней мере 5 кроликов.\n",
    "\n",
    "- При любой рассадке кроликов по ящикам найдётся ящик, в котором будет сидеть по крайней мере 6 кроликов."
   ]
  },
  {
   "cell_type": "markdown",
   "metadata": {},
   "source": [
    "### Task 7\n",
    "\n",
    "Имеется 4 банки желтой краски, 5 банок синей краски и 7 банок красной краски, все банки разного размера. Отметьте верные утверждения:"
   ]
  },
  {
   "cell_type": "markdown",
   "metadata": {},
   "source": [
    "- **Банку краски можно выбрать 16 способами.**\n",
    "\n",
    "- По одной банке каждой краски (1 желтую, 1 синюю, 1 красную) можно выбрать 16 способами.\n",
    "\n",
    "- **По одной банке каждой краски (1 желтую, 1 синюю, 1 красную) можно выбрать 140 способами.**\n",
    "\n",
    "- Банку краски можно выбрать 140 способами."
   ]
  },
  {
   "cell_type": "code",
   "execution_count": 12,
   "metadata": {},
   "outputs": [
    {
     "name": "stdout",
     "output_type": "stream",
     "text": [
      "sol 1: 16\n",
      "sol 3: 140\n"
     ]
    }
   ],
   "source": [
    "# 1\n",
    "print('sol 1: {}'.format(4 + 5 + 7))\n",
    "# 3\n",
    "print('sol 3: {}'.format(4 * 5 * 7))"
   ]
  }
 ],
 "metadata": {
  "kernelspec": {
   "display_name": "Python 3",
   "language": "python",
   "name": "python3"
  },
  "language_info": {
   "codemirror_mode": {
    "name": "ipython",
    "version": 3
   },
   "file_extension": ".py",
   "mimetype": "text/x-python",
   "name": "python",
   "nbconvert_exporter": "python",
   "pygments_lexer": "ipython3",
   "version": "3.5.2"
  }
 },
 "nbformat": 4,
 "nbformat_minor": 2
}
