{
 "cells": [
  {
   "cell_type": "markdown",
   "metadata": {},
   "source": [
    "## Easy comb hw 6"
   ]
  },
  {
   "cell_type": "markdown",
   "metadata": {},
   "source": [
    "### Task 1\n",
    "\n",
    "Переплётчик должен переплести 5 различных книг в красный, зелёный или коричневый переплёты. Сколькими способами он может это сделать, если в каждый цвет должна быть переплетена хотя бы одна книга? Все книги различны."
   ]
  },
  {
   "cell_type": "code",
   "execution_count": 3,
   "metadata": {},
   "outputs": [
    {
     "data": {
      "text/plain": [
       "150"
      ]
     },
     "execution_count": 3,
     "metadata": {},
     "output_type": "execute_result"
    }
   ],
   "source": [
    "# A_i - сво-во когда не берем i-й цвет\n",
    "# Кол-во способов не выбрать 1 цвет\n",
    "# 5^2\n",
    "# Кол-во способов не выбрать 2 цвета\n",
    "# 1\n",
    "# Кол-во способов не выбрать 3 цвета\n",
    "# 0\n",
    "# 3^5 - (3 * 2^5 - 3 * 1 + 3 * 0) = \n",
    "3**5 - (3 * 2**5 - 3)"
   ]
  },
  {
   "cell_type": "markdown",
   "metadata": {},
   "source": [
    "### Task 2\n",
    "Сколькими способами можно расселить 5 туристов по 3 домикам, чтобы ни один домик не оказался пустым? Все туристы и домики различны. Способы расселения, отличающиеся только перестановкой туристов, заселённых в один домик, считаются одинаковыми."
   ]
  },
  {
   "cell_type": "code",
   "execution_count": 4,
   "metadata": {},
   "outputs": [
    {
     "data": {
      "text/plain": [
       "150"
      ]
     },
     "execution_count": 4,
     "metadata": {},
     "output_type": "execute_result"
    }
   ],
   "source": [
    "# Аналогично прошлой задаче\n",
    "150"
   ]
  },
  {
   "cell_type": "markdown",
   "metadata": {},
   "source": [
    "### Task 3\n",
    "Дана таблица размером 2×5. В левом верхнем углу записано число 1. Сколькими способами таблицу можно дополнить числами {1,2,3,4,5} так, чтобы выполнялись оба следующих условия:\n",
    "\n",
    "1) в каждой строчке присутствовало каждое из чисел от 1 до 5,\n",
    "2) в каждом столбце все числа были различны?\n",
    "(Пример такого заполнения: первая строчка: 1,2,5,4,3, вторая строчка: 3,5,2,1,4.)"
   ]
  },
  {
   "cell_type": "code",
   "execution_count": 5,
   "metadata": {},
   "outputs": [
    {
     "data": {
      "text/plain": [
       "1056"
      ]
     },
     "execution_count": 5,
     "metadata": {},
     "output_type": "execute_result"
    }
   ],
   "source": [
    "# 4! - вариантов заполнения 1 строчки\n",
    "# на 2 строчке - число беспорядков\n",
    "\n",
    "from math import factorial as f\n",
    "f(4) * 44"
   ]
  },
  {
   "cell_type": "markdown",
   "metadata": {},
   "source": [
    "### Task 4\n",
    "Число беспорядков в последовательности из 5 элементов равно (отметьте все правильные варианты)"
   ]
  },
  {
   "cell_type": "code",
   "execution_count": null,
   "metadata": {
    "collapsed": true
   },
   "outputs": [],
   "source": [
    "# По формуле включений-исключений\n",
    "# число перестановок: 5!\n",
    "# чилсло перестановок где на своем месте не стоит 1 элемент\n",
    "# 5 * 4 * 4!\n",
    "# 2 элемента C_5^2 * 3!\n",
    "# 3 элемента C_5^3 * 2!\n",
    "# 4 элемента С_5^4 * 1!\n",
    "# 5 элементов C^5^5 * 0!\n",
    "\n",
    "# 5 * 4!\n",
    "# 3! * 5! / (3! * 2!) = 5! / 2! \n",
    "# 2! * 5! / (3! * 2!) = 5! / 3!\n",
    "# 1! * 5! / (1! * 4!) = 5! / 4!\n",
    "# 0! * 5! / (1! * 5!) = 5! / 5!\n",
    "\n",
    "# 5! - 5 * 4! +  5! / 2! - 5! / 3! + 5! / 4! - 5! / 5! =\n",
    "# = 5! (1 - 1 + 1/2! - 1/3! + 1/4! - 1/5!)  # +"
   ]
  },
  {
   "cell_type": "markdown",
   "metadata": {},
   "source": [
    "### Task 5\n",
    "На загородную прогулку поехали 92 человека. Бутерброды с колбасой взяли 48 человек, с сыром — 38 человек, с сыром и колбасой — 28 человек. Сколько человек не взяли с собой бутерброды?"
   ]
  },
  {
   "cell_type": "code",
   "execution_count": 6,
   "metadata": {},
   "outputs": [
    {
     "data": {
      "text/plain": [
       "34"
      ]
     },
     "execution_count": 6,
     "metadata": {},
     "output_type": "execute_result"
    }
   ],
   "source": [
    "92 - (48 + 38 - 28)  # +"
   ]
  },
  {
   "cell_type": "markdown",
   "metadata": {},
   "source": [
    "### Task 6\n",
    "Формула включений и исключений для трёх множеств A,B,C выглядит следующим образом:"
   ]
  },
  {
   "cell_type": "code",
   "execution_count": null,
   "metadata": {
    "collapsed": true
   },
   "outputs": [],
   "source": [
    "# Мощность объединия = мощности пересечений +"
   ]
  }
 ],
 "metadata": {
  "kernelspec": {
   "display_name": "Python 3",
   "language": "python",
   "name": "python3"
  },
  "language_info": {
   "codemirror_mode": {
    "name": "ipython",
    "version": 3
   },
   "file_extension": ".py",
   "mimetype": "text/x-python",
   "name": "python",
   "nbconvert_exporter": "python",
   "pygments_lexer": "ipython3",
   "version": "3.5.2"
  }
 },
 "nbformat": 4,
 "nbformat_minor": 2
}
