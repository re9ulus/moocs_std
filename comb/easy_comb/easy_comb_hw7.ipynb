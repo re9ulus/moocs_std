{
 "cells": [
  {
   "cell_type": "markdown",
   "metadata": {},
   "source": [
    "## Easy comb hw7"
   ]
  },
  {
   "cell_type": "markdown",
   "metadata": {},
   "source": [
    "### Task 1\n",
    "\n",
    "Рассмотрим выравнивания слов \"росомаха\" и \"носорог\". Сколько всего есть выравниваний длины 9, в которых не обязательно выполнены условия 1) и 2), накладываемые на них?"
   ]
  },
  {
   "cell_type": "code",
   "execution_count": 9,
   "metadata": {},
   "outputs": [
    {
     "data": {
      "text/plain": [
       "324.0"
      ]
     },
     "execution_count": 9,
     "metadata": {},
     "output_type": "execute_result"
    }
   ],
   "source": [
    "# C_15^8 8 C_15\n",
    "9 * 8 * 9 / 2  # +"
   ]
  },
  {
   "cell_type": "markdown",
   "metadata": {},
   "source": [
    "### Task 2\n",
    "Рассмотрим выравнивания слов \"росомаха\" и \"носорог\". Сколько всего есть правильных выравниваний (то есть с выполнением двух условий) данных слов?"
   ]
  },
  {
   "cell_type": "code",
   "execution_count": 6,
   "metadata": {},
   "outputs": [],
   "source": [
    "# С_15^7, C_15^8  # +"
   ]
  },
  {
   "cell_type": "markdown",
   "metadata": {},
   "source": [
    "### Task 3\n",
    "Рассмотрим выравнивания слов \"росомаха\" и \"носорог\". Какое максимальное количество столбцов может быть в правильном выравнивании?"
   ]
  },
  {
   "cell_type": "code",
   "execution_count": 4,
   "metadata": {},
   "outputs": [
    {
     "data": {
      "text/plain": [
       "15"
      ]
     },
     "execution_count": 4,
     "metadata": {},
     "output_type": "execute_result"
    }
   ],
   "source": [
    "# len(\"росомаха\") + len(\"носорог\")\n",
    "8 + 7  # +"
   ]
  },
  {
   "cell_type": "markdown",
   "metadata": {},
   "source": [
    "### Task 4\n",
    "Рассмотрим выравнивание\n",
    "```\n",
    "( р о 0 с 0 о м а 0 х а 0 )\n",
    "( н 0 о 0 с 0 о 0 р о 0 г )\n",
    "```\n",
    "Сколько правильных выравниваний с ним отождествляется (естественно, мы включаем само это выравнивание)?"
   ]
  },
  {
   "cell_type": "code",
   "execution_count": null,
   "metadata": {
    "collapsed": true
   },
   "outputs": [],
   "source": [
    "40"
   ]
  },
  {
   "cell_type": "markdown",
   "metadata": {},
   "source": [
    "### Task 5\n",
    "Укажите выравнивания, которые являются одинаковыми (с точки зрения правила отождествления) с выравниванием"
   ]
  },
  {
   "cell_type": "code",
   "execution_count": null,
   "metadata": {
    "collapsed": true
   },
   "outputs": [],
   "source": []
  },
  {
   "cell_type": "markdown",
   "metadata": {},
   "source": [
    "### Task 6\n",
    "Сколько одинаковых подслов содержат слова \"росомаха\" и \"носорог\", если каждое подслово считается только один раз? (Подсловом называется последовательность букв слова, расположенных подряд друг за другом. Повторы не учитываются, т.е. если подслово встречается несколько раз, то мы считаем, что одно подслово)."
   ]
  },
  {
   "cell_type": "code",
   "execution_count": 8,
   "metadata": {
    "collapsed": true
   },
   "outputs": [],
   "source": [
    "# о\n",
    "# ос\n",
    "# осо\n",
    "# со\n",
    "# с\n",
    "# ро\n",
    "# р\n",
    "\n",
    "7  # + "
   ]
  },
  {
   "cell_type": "markdown",
   "metadata": {},
   "source": [
    "### Task 7\n",
    "Сколько одинаковых подслов содержат слова \"росомаха\" и \"носорог\"?\n",
    "\n",
    "(Подсловом называется последовательность букв слова, которые расположены подряд друг за другом. Повторы учитываются, т.е. если подслово встречается несколько раз, то мы считаем, что разные подслова).\n",
    "\n",
    "Примеры: слова \"торс\" и \"трос\" содержат следующие общие подслова: \"т\", \"о\", \"р\", \"c\" - ответ 4;\n",
    "\n",
    "слова \"торос\" и \"трос\" содержат следующие общие подслова: \"т\", \"о\" (2 раза), \"р\", \"c\", \"ро\", \"ос\", \"рос\"- ответ 8."
   ]
  },
  {
   "cell_type": "code",
   "execution_count": null,
   "metadata": {
    "collapsed": true
   },
   "outputs": [],
   "source": [
    "# о - 6\n",
    "# ос - 1\n",
    "# осо - 1\n",
    "# со - 1\n",
    "# с - 1\n",
    "# ро - 1\n",
    "# р - 1\n",
    "\n",
    "12  # +"
   ]
  }
 ],
 "metadata": {
  "kernelspec": {
   "display_name": "Python 3",
   "language": "python",
   "name": "python3"
  },
  "language_info": {
   "codemirror_mode": {
    "name": "ipython",
    "version": 3
   },
   "file_extension": ".py",
   "mimetype": "text/x-python",
   "name": "python",
   "nbconvert_exporter": "python",
   "pygments_lexer": "ipython3",
   "version": "3.5.2"
  }
 },
 "nbformat": 4,
 "nbformat_minor": 2
}
