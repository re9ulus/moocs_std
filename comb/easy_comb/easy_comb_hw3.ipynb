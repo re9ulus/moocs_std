{
 "cells": [
  {
   "cell_type": "markdown",
   "metadata": {},
   "source": [
    "## Easy comb hw 3"
   ]
  },
  {
   "cell_type": "markdown",
   "metadata": {},
   "source": [
    "### Task 1\n",
    "В одном маленьком королевстве выбирают царя, его советника и пятерых стражников из 30 кандидатов. Сколькими способами это можно сделать?"
   ]
  },
  {
   "cell_type": "code",
   "execution_count": 1,
   "metadata": {
    "collapsed": true
   },
   "outputs": [],
   "source": [
    "# 30 * 29 * C_28^5"
   ]
  },
  {
   "cell_type": "code",
   "execution_count": 2,
   "metadata": {
    "collapsed": true
   },
   "outputs": [],
   "source": [
    "from math import factorial as f\n",
    "\n",
    "def C(n, m):\n",
    "    return f(n) / f(n - m) / f(m)\n",
    "\n",
    "def C_hat(n, m):\n",
    "    return f(n + m - 1) / f(n + m - m - 1) / f(m)"
   ]
  },
  {
   "cell_type": "markdown",
   "metadata": {},
   "source": [
    "### Task 2\n",
    "У королевы есть 12 одинаковых зеркал. Сколькими способами их можно повесить в 8 разных залах замка так, чтобы в каждом зале было хотя бы одно зеркало?"
   ]
  },
  {
   "cell_type": "code",
   "execution_count": 3,
   "metadata": {},
   "outputs": [
    {
     "name": "stdout",
     "output_type": "stream",
     "text": [
      "ans 2: 330.0\n"
     ]
    }
   ],
   "source": [
    "n = 12\n",
    "k = 8\n",
    "\n",
    "print('ans 2: {}'.format(C(n + k - k - 1, k - 1)))"
   ]
  },
  {
   "cell_type": "markdown",
   "metadata": {},
   "source": [
    "### Task 3\n",
    "В летнем лагере 10 отрядов. Каждый день дежурят по 3 отряда. Сколькими способами можно выбрать дежурные отряды? (выберите все возможные варианты)"
   ]
  },
  {
   "cell_type": "code",
   "execution_count": 4,
   "metadata": {
    "collapsed": true
   },
   "outputs": [],
   "source": [
    "# C_10^3\n",
    "# 10! / (3! * 7!)"
   ]
  },
  {
   "cell_type": "markdown",
   "metadata": {},
   "source": [
    "### Task 4\n",
    "В палитре художника имеется 10 разных красок. Сколько разных оттенков он может получить, смешивая 3 краски (краски могут быть одинаковыми, получаемый оттенок не зависит от порядка смешивания красок)?"
   ]
  },
  {
   "cell_type": "code",
   "execution_count": 5,
   "metadata": {
    "collapsed": true
   },
   "outputs": [],
   "source": [
    "# C_10^3-with-hat\n",
    "# 12! / (3! * 9!)"
   ]
  },
  {
   "cell_type": "markdown",
   "metadata": {},
   "source": [
    "### Task 5\n",
    "Команда <<Турин>> состоит из 10 баскетболистов, а команда <<Ювента>> − из 12. Сколькими способами команды могут сформировать стартовый состав (в баскетболе на поле играют 5 человек)?"
   ]
  },
  {
   "cell_type": "code",
   "execution_count": 6,
   "metadata": {},
   "outputs": [
    {
     "name": "stdout",
     "output_type": "stream",
     "text": [
      "ans 5: 199584.0\n"
     ]
    }
   ],
   "source": [
    "print('ans 5: {}'.format(C(10, 5) * C(12, 5)))"
   ]
  },
  {
   "cell_type": "markdown",
   "metadata": {},
   "source": [
    "### Task 6\n",
    "Сколькими способами в течение 5 дней можно выбирать на дежурство по 4 ученика из класса в 20 человек так, чтобы каждый день состав дежурных был разным?"
   ]
  },
  {
   "cell_type": "code",
   "execution_count": 7,
   "metadata": {
    "collapsed": true
   },
   "outputs": [],
   "source": [
    "# C_20^4 * (C_20^4 - 1) * ..."
   ]
  },
  {
   "cell_type": "markdown",
   "metadata": {},
   "source": [
    "### Task 7\n",
    "Имеется 10 разных чашек и 5 разных ложек. Количество способов разложить ложки по чашкам (в одну чашку влезает сколько угодно ложек) является по своей сути"
   ]
  },
  {
   "cell_type": "code",
   "execution_count": 8,
   "metadata": {
    "collapsed": true
   },
   "outputs": [],
   "source": [
    "# Размещением с повторением"
   ]
  },
  {
   "cell_type": "markdown",
   "metadata": {},
   "source": [
    "### Task 8\n",
    "В первый класс набрали 75 учеников. Сколькими способами можно распределить их по трем классам по 25 человек в каждом? Правильных вариантов ответа может быть несколько."
   ]
  },
  {
   "cell_type": "code",
   "execution_count": 9,
   "metadata": {},
   "outputs": [
    {
     "ename": "SyntaxError",
     "evalue": "invalid syntax (<ipython-input-9-3831c5b2dba2>, line 4)",
     "output_type": "error",
     "traceback": [
      "\u001b[0;36m  File \u001b[0;32m\"<ipython-input-9-3831c5b2dba2>\"\u001b[0;36m, line \u001b[0;32m4\u001b[0m\n\u001b[0;31m    75! / (50! * 25!) * 50! / (25! * 25!)\u001b[0m\n\u001b[0m      ^\u001b[0m\n\u001b[0;31mSyntaxError\u001b[0m\u001b[0;31m:\u001b[0m invalid syntax\n"
     ]
    }
   ],
   "source": [
    "# C_75^25 * C_50^25\n",
    "# 75! / (25!)^3\n",
    "\n",
    "75! / (50! * 25!) * 50! / (25! * 25!)\n",
    "75! / 25! * 1 / (25! * 25!)"
   ]
  }
 ],
 "metadata": {
  "kernelspec": {
   "display_name": "Python 3",
   "language": "python",
   "name": "python3"
  },
  "language_info": {
   "codemirror_mode": {
    "name": "ipython",
    "version": 3
   },
   "file_extension": ".py",
   "mimetype": "text/x-python",
   "name": "python",
   "nbconvert_exporter": "python",
   "pygments_lexer": "ipython3",
   "version": "3.5.2"
  }
 },
 "nbformat": 4,
 "nbformat_minor": 2
}
