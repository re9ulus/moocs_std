{
 "cells": [
  {
   "cell_type": "markdown",
   "metadata": {},
   "source": [
    "## Easy comb, hw 2"
   ]
  },
  {
   "cell_type": "markdown",
   "metadata": {},
   "source": [
    "### Task 1. \n",
    "Есть 10 различных марок шоколада. Количество способов подарить трём девочкам по шоколадке равно (выберите все подходящие варианты):"
   ]
  },
  {
   "cell_type": "code",
   "execution_count": 1,
   "metadata": {
    "collapsed": true
   },
   "outputs": [],
   "source": [
    "# Перестановка из 10 по 3 с повторениями\n",
    "# A_10^3 с четрой\n",
    "# 10 ** 3"
   ]
  },
  {
   "cell_type": "markdown",
   "metadata": {},
   "source": [
    "### Task 2.\n",
    "\n",
    "Сколькими способами можно составить расписание авиарейсов на завтра, если всего имеется рейсы в 7 городов, а в день осуществляется от двух до четырех перелётов в разные города?"
   ]
  },
  {
   "cell_type": "code",
   "execution_count": 2,
   "metadata": {},
   "outputs": [
    {
     "name": "stdout",
     "output_type": "stream",
     "text": [
      "ans 2: 1092.0\n"
     ]
    }
   ],
   "source": [
    "from math import factorial as f\n",
    "\n",
    "def A(n, m):\n",
    "    return f(n) / f(n - m)\n",
    "\n",
    "print('ans 2: {}'.format(A(7, 2) + A(7, 3) + A(7, 4)))"
   ]
  },
  {
   "cell_type": "markdown",
   "metadata": {},
   "source": [
    "### Task 3. \n",
    "Сколькими способами можно вручить призы в 5 различных номинациях (в каждой номинации только один приз), если в соревновании участвуют 10 человек?"
   ]
  },
  {
   "cell_type": "code",
   "execution_count": 3,
   "metadata": {},
   "outputs": [
    {
     "name": "stdout",
     "output_type": "stream",
     "text": [
      "ans 3: 100000\n"
     ]
    }
   ],
   "source": [
    "print('ans 3: {}'.format(10 ** 5))"
   ]
  },
  {
   "cell_type": "markdown",
   "metadata": {},
   "source": [
    "### Task 4.\n",
    "Сколькими способами можно вручить призы в 5 различных номинациях (в каждой номинации только один приз), если в соревновании участвуют 10 человек, при условии, что каждый участник может получить не более одного приза?"
   ]
  },
  {
   "cell_type": "code",
   "execution_count": 4,
   "metadata": {},
   "outputs": [
    {
     "name": "stdout",
     "output_type": "stream",
     "text": [
      "ans 4: 30240.0\n"
     ]
    }
   ],
   "source": [
    "print('ans 4: {}'.format(A(10, 5)))"
   ]
  },
  {
   "cell_type": "markdown",
   "metadata": {},
   "source": [
    "### Task 5.\n",
    "В семье семеро детей: старший − мальчик, дальше − девочка, девочка, мальчик, мальчик, мальчик и младшая − девочка. Сколькими способами родители могут выбрать имена, если они выбирают из 10 мужских и 13 женских имен и хотят, чтобы имена не повторялись?"
   ]
  },
  {
   "cell_type": "code",
   "execution_count": 5,
   "metadata": {},
   "outputs": [
    {
     "name": "stdout",
     "output_type": "stream",
     "text": [
      "ans 5: 8648640.0\n"
     ]
    }
   ],
   "source": [
    "# 4м, 3д\n",
    "print('ans 5: {}'.format(A(10, 4) * A(13, 3)))"
   ]
  },
  {
   "cell_type": "markdown",
   "metadata": {},
   "source": [
    "### Task 6. \n",
    "Жених и невеста выбирают трехъярусный свадебный торт. На выбор имеются 5 типов ярусов (бисквитный, йогуртовый, чизкейк и т.д.). Сколько различных тортов может предложить кондитер, если бисквитных ярусов может быть не больше двух, а ярусов любого другого типа не больше одного?"
   ]
  },
  {
   "cell_type": "code",
   "execution_count": 6,
   "metadata": {},
   "outputs": [
    {
     "name": "stdout",
     "output_type": "stream",
     "text": [
      "asn 6: 72.0\n"
     ]
    }
   ],
   "source": [
    "# Без бисквитных\n",
    "a0 = A(4, 3)\n",
    "# С одним бисквитным\n",
    "a1 = A(4, 2) * 3\n",
    "# С двумя бисквитным\n",
    "a2 = 4 * 3\n",
    "\n",
    "print('asn 6: {}'.format(a0 + a1 + a2))"
   ]
  },
  {
   "cell_type": "markdown",
   "metadata": {},
   "source": [
    "## Task 7.\n",
    "В университете десятибальная система оценок: 1−2 − \"неудовлетворительно\", 3−4 − \"удовлетворительно\", 5−7 − \"хорошо\" и 8−10 − \"отлично\". Сколькими способами можно поставить оценки 5 студентам, если известно, что экзамен сдали все (т.е. нет неудовлетворительных оценок)?7. "
   ]
  },
  {
   "cell_type": "code",
   "execution_count": 7,
   "metadata": {},
   "outputs": [
    {
     "name": "stdout",
     "output_type": "stream",
     "text": [
      "ans 7: 32768\n"
     ]
    }
   ],
   "source": [
    "print('ans 7: {}'.format(8**5))  ## wrong"
   ]
  },
  {
   "cell_type": "markdown",
   "metadata": {},
   "source": [
    "### Task 8.\n",
    "Группа из 4 студентов пришла в столовую. Сколькими способами они могут занять очередь друг за другом, если Маша и Таня хотят стоять рядом, а Коля не хочет быть последним?"
   ]
  },
  {
   "cell_type": "code",
   "execution_count": 8,
   "metadata": {},
   "outputs": [
    {
     "name": "stdout",
     "output_type": "stream",
     "text": [
      "ans 8: 8\n"
     ]
    }
   ],
   "source": [
    "print('ans 8: {}'.format(2 * (f(3) - f(2))))"
   ]
  },
  {
   "cell_type": "markdown",
   "metadata": {},
   "source": [
    "### Task 9. \n",
    "Группа из 8 студентов пришла в столовую. Сколькими способами они могут занять очередь друг за другом, если Маша и Таня хотят стоять рядом, а Коля не хочет быть последним?"
   ]
  },
  {
   "cell_type": "code",
   "execution_count": 9,
   "metadata": {},
   "outputs": [
    {
     "name": "stdout",
     "output_type": "stream",
     "text": [
      "ans 9: 8640\n"
     ]
    }
   ],
   "source": [
    "print('ans 9: {}'.format(2 * (f(7) - f(6))))"
   ]
  }
 ],
 "metadata": {
  "kernelspec": {
   "display_name": "Python 3",
   "language": "python",
   "name": "python3"
  },
  "language_info": {
   "codemirror_mode": {
    "name": "ipython",
    "version": 3
   },
   "file_extension": ".py",
   "mimetype": "text/x-python",
   "name": "python",
   "nbconvert_exporter": "python",
   "pygments_lexer": "ipython3",
   "version": "3.5.2"
  }
 },
 "nbformat": 4,
 "nbformat_minor": 2
}
