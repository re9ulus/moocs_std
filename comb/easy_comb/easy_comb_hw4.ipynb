{
 "cells": [
  {
   "cell_type": "markdown",
   "metadata": {},
   "source": [
    "## Easy comb hw 4"
   ]
  },
  {
   "cell_type": "markdown",
   "metadata": {},
   "source": [
    "### Task 1\n",
    "Шестая строчка треугольника Паскаля выглядит следующим образом:"
   ]
  },
  {
   "cell_type": "code",
   "execution_count": 1,
   "metadata": {
    "collapsed": true
   },
   "outputs": [],
   "source": [
    "# 1  # 0-th row\n",
    "# 1 1\n",
    "# 1 2 1\n",
    "# 1 3 3 1\n",
    "# 1 4 6 4 1\n",
    "# 1 5 10 10 5 1\n",
    "# 1 6 15 20 15 6 1  # this"
   ]
  },
  {
   "cell_type": "markdown",
   "metadata": {},
   "source": [
    "### Task 2\n",
    "На дереве висит 10 разных яблок. Сколькими способами можно сорвать нечётное количество яблок?"
   ]
  },
  {
   "cell_type": "code",
   "execution_count": null,
   "metadata": {
    "collapsed": true
   },
   "outputs": [],
   "source": [
    "C_10^1 + C_10^3 + C_10^5 + C_10^7 + C_10^9 =\n",
    "(C_10^1)**2 + (C_10^3)**2 + C_10^5\n",
    "\n",
    "## 2^10 / 2 == 2^9 = 512 +"
   ]
  },
  {
   "cell_type": "markdown",
   "metadata": {},
   "source": [
    "### Task 3\n",
    "Сумма C_10^1 + C_10^2 + ... + C_10^10 равна"
   ]
  },
  {
   "cell_type": "code",
   "execution_count": 4,
   "metadata": {
    "collapsed": true
   },
   "outputs": [],
   "source": [
    "# 2^10 - 1 = (1023) +"
   ]
  },
  {
   "cell_type": "markdown",
   "metadata": {},
   "source": [
    "### Task 4\n",
    "Коэффициент при x^7 в разложении (1 + x)^11 равен"
   ]
  },
  {
   "cell_type": "code",
   "execution_count": 7,
   "metadata": {
    "collapsed": true
   },
   "outputs": [],
   "source": [
    "# C_11^7, C_11^4"
   ]
  },
  {
   "cell_type": "markdown",
   "metadata": {},
   "source": [
    "### Task 5\n",
    "В наборе из 12 сосудов имеется 5 неразличимых стаканов и 7 различных чашек. Сколькими способами можно выбрать 6 сосудов из 12?"
   ]
  },
  {
   "cell_type": "code",
   "execution_count": null,
   "metadata": {
    "collapsed": true
   },
   "outputs": [],
   "source": [
    "        C_7^6 +\n",
    "C_5^1 * C_7^5 +\n",
    "C_5^2 * C_7^4 +\n",
    "C_5^3 * C_7^3 +\n",
    "C_5^4 * C_7^2 +\n",
    "C_5^5 * C_7^1 +\n",
    "\n",
    "# 6 ?? -\n",
    "0 6\n",
    "1 5\n",
    "2 4\n",
    "3 3\n",
    "4 2\n",
    "5 1 = 128 - 2 = 126\n",
    "\n",
    "C_12^6"
   ]
  },
  {
   "cell_type": "markdown",
   "metadata": {},
   "source": [
    "### Task 6\n",
    "Сумма C_(n+m-1)^m + C_(n+m-2)^m ... + C_m^m, при всех m >= 1, n >= 1 равна:"
   ]
  },
  {
   "cell_type": "code",
   "execution_count": null,
   "metadata": {
    "collapsed": true
   },
   "outputs": [],
   "source": [
    "# C_n+m^(n-1), C_(n+m)^(n+1)"
   ]
  },
  {
   "cell_type": "markdown",
   "metadata": {},
   "source": [
    "### Task 7\n",
    "Отметьте тождества, выполненные при всех n >= k >= 0"
   ]
  },
  {
   "cell_type": "code",
   "execution_count": null,
   "metadata": {
    "collapsed": true
   },
   "outputs": [],
   "source": [
    "# 2^n ="
   ]
  }
 ],
 "metadata": {
  "kernelspec": {
   "display_name": "Python 3",
   "language": "python",
   "name": "python3"
  },
  "language_info": {
   "codemirror_mode": {
    "name": "ipython",
    "version": 3
   },
   "file_extension": ".py",
   "mimetype": "text/x-python",
   "name": "python",
   "nbconvert_exporter": "python",
   "pygments_lexer": "ipython3",
   "version": "3.5.2"
  }
 },
 "nbformat": 4,
 "nbformat_minor": 2
}
